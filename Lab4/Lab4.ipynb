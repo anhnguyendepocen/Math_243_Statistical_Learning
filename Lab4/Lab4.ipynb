{
 "cells": [
  {
   "cell_type": "markdown",
   "metadata": {},
   "source": [
    "# Lab4 - Predicting Binary Outcomes\n",
    "## Logistic Regression, LDA, and QDA on civil war outbreaks"
   ]
  },
  {
   "cell_type": "code",
   "execution_count": 2,
   "metadata": {
    "collapsed": true
   },
   "outputs": [],
   "source": [
    "import pandas as pd\n",
    "import statsmodels.api as sm\n",
    "from sklearn.discriminant_analysis import LinearDiscriminantAnalysis as LDA\n",
    "from sklearn.discriminant_analysis import QuadraticDiscriminantAnalysis as QDA\n"
   ]
  },
  {
   "cell_type": "markdown",
   "metadata": {},
   "source": [
    "### Question 1\n",
    "\n",
    "#### Fit a logistic regression model for the start of civil war on all other variables except country and year (yes, this makes some questionable assumptions about independent observations); include a quadratic term for exports. Report the coefficients and their standard errors, together with R's p-values. Which ones does R (Python) say are significant at the 5% level?\n"
   ]
  },
  {
   "cell_type": "code",
   "execution_count": 7,
   "metadata": {
    "collapsed": false,
    "scrolled": true
   },
   "outputs": [
    {
     "data": {
      "text/html": [
       "<div>\n",
       "<table border=\"1\" class=\"dataframe\">\n",
       "  <thead>\n",
       "    <tr style=\"text-align: right;\">\n",
       "      <th></th>\n",
       "      <th>country</th>\n",
       "      <th>year</th>\n",
       "      <th>start</th>\n",
       "      <th>exports</th>\n",
       "      <th>schooling</th>\n",
       "      <th>growth</th>\n",
       "      <th>peace</th>\n",
       "      <th>concentration</th>\n",
       "      <th>lnpop</th>\n",
       "      <th>fractionalization</th>\n",
       "      <th>dominance</th>\n",
       "    </tr>\n",
       "  </thead>\n",
       "  <tbody>\n",
       "    <tr>\n",
       "      <th>9</th>\n",
       "      <td>Algeria</td>\n",
       "      <td>1965</td>\n",
       "      <td>0.0</td>\n",
       "      <td>0.190</td>\n",
       "      <td>10.0</td>\n",
       "      <td>-1.682</td>\n",
       "      <td>24.0</td>\n",
       "      <td>0.916</td>\n",
       "      <td>16.293980</td>\n",
       "      <td>132.0</td>\n",
       "      <td>1.0</td>\n",
       "    </tr>\n",
       "    <tr>\n",
       "      <th>10</th>\n",
       "      <td>Algeria</td>\n",
       "      <td>1970</td>\n",
       "      <td>0.0</td>\n",
       "      <td>0.193</td>\n",
       "      <td>16.0</td>\n",
       "      <td>2.843</td>\n",
       "      <td>84.0</td>\n",
       "      <td>0.916</td>\n",
       "      <td>16.436260</td>\n",
       "      <td>132.0</td>\n",
       "      <td>1.0</td>\n",
       "    </tr>\n",
       "    <tr>\n",
       "      <th>11</th>\n",
       "      <td>Algeria</td>\n",
       "      <td>1975</td>\n",
       "      <td>0.0</td>\n",
       "      <td>0.269</td>\n",
       "      <td>26.0</td>\n",
       "      <td>4.986</td>\n",
       "      <td>144.0</td>\n",
       "      <td>0.916</td>\n",
       "      <td>16.589220</td>\n",
       "      <td>132.0</td>\n",
       "      <td>1.0</td>\n",
       "    </tr>\n",
       "    <tr>\n",
       "      <th>12</th>\n",
       "      <td>Algeria</td>\n",
       "      <td>1980</td>\n",
       "      <td>0.0</td>\n",
       "      <td>0.368</td>\n",
       "      <td>40.0</td>\n",
       "      <td>3.261</td>\n",
       "      <td>204.0</td>\n",
       "      <td>0.916</td>\n",
       "      <td>16.742380</td>\n",
       "      <td>132.0</td>\n",
       "      <td>1.0</td>\n",
       "    </tr>\n",
       "    <tr>\n",
       "      <th>13</th>\n",
       "      <td>Algeria</td>\n",
       "      <td>1985</td>\n",
       "      <td>0.0</td>\n",
       "      <td>0.170</td>\n",
       "      <td>59.0</td>\n",
       "      <td>1.602</td>\n",
       "      <td>264.0</td>\n",
       "      <td>0.916</td>\n",
       "      <td>16.901039</td>\n",
       "      <td>132.0</td>\n",
       "      <td>1.0</td>\n",
       "    </tr>\n",
       "  </tbody>\n",
       "</table>\n",
       "</div>"
      ],
      "text/plain": [
       "    country  year  start  exports  schooling  growth  peace  concentration  \\\n",
       "9   Algeria  1965    0.0    0.190       10.0  -1.682   24.0          0.916   \n",
       "10  Algeria  1970    0.0    0.193       16.0   2.843   84.0          0.916   \n",
       "11  Algeria  1975    0.0    0.269       26.0   4.986  144.0          0.916   \n",
       "12  Algeria  1980    0.0    0.368       40.0   3.261  204.0          0.916   \n",
       "13  Algeria  1985    0.0    0.170       59.0   1.602  264.0          0.916   \n",
       "\n",
       "        lnpop  fractionalization  dominance  \n",
       "9   16.293980              132.0        1.0  \n",
       "10  16.436260              132.0        1.0  \n",
       "11  16.589220              132.0        1.0  \n",
       "12  16.742380              132.0        1.0  \n",
       "13  16.901039              132.0        1.0  "
      ]
     },
     "execution_count": 7,
     "metadata": {},
     "output_type": "execute_result"
    }
   ],
   "source": [
    "war = pd.read_csv(\"http://www.stat.cmu.edu/~cshalizi/uADA/15/hw/06/ch.csv\")\n",
    "war = war.ix[:,1:len(war.columns)]\n",
    "war = war.dropna()\n",
    "\n",
    "war.head()\n"
   ]
  },
  {
   "cell_type": "code",
   "execution_count": 8,
   "metadata": {
    "collapsed": false
   },
   "outputs": [
    {
     "name": "stdout",
     "output_type": "stream",
     "text": [
      "Optimization terminated successfully.\n",
      "         Current function value: 0.186355\n",
      "         Iterations 9\n",
      "                           Logit Regression Results                           \n",
      "==============================================================================\n",
      "Dep. Variable:                  start   No. Observations:                  688\n",
      "Model:                          Logit   Df Residuals:                      678\n",
      "Method:                           MLE   Df Model:                            9\n",
      "Date:                Sat, 24 Jun 2017   Pseudo R-squ.:                  0.2407\n",
      "Time:                        19:15:19   Log-Likelihood:                -128.21\n",
      "converged:                       True   LL-Null:                       -168.86\n",
      "                                        LLR p-value:                 8.902e-14\n",
      "=====================================================================================\n",
      "                        coef    std err          z      P>|z|      [95.0% Conf. Int.]\n",
      "-------------------------------------------------------------------------------------\n",
      "exports              18.9370      5.865      3.229      0.001         7.441    30.433\n",
      "schooling            -0.0316      0.010     -3.225      0.001        -0.051    -0.012\n",
      "growth               -0.1152      0.043     -2.675      0.007        -0.200    -0.031\n",
      "peace                -0.0037      0.001     -3.397      0.001        -0.006    -0.002\n",
      "concentration        -2.4870      1.005     -2.474      0.013        -4.457    -0.517\n",
      "lnpop                 0.7677      0.166      4.632      0.000         0.443     1.093\n",
      "fractionalization    -0.0002    9.1e-05     -2.345      0.019        -0.000 -3.51e-05\n",
      "dominance             0.6704      0.354      1.896      0.058        -0.023     1.363\n",
      "exports^2           -29.4432     11.782     -2.499      0.012       -52.535    -6.352\n",
      "intercept           -13.0731      2.795     -4.677      0.000       -18.552    -7.594\n",
      "=====================================================================================\n"
     ]
    }
   ],
   "source": [
    "warX = war.drop([\"country\",\"year\",\"start\"], axis=1)\n",
    "warX[\"exports^2\"] = warX[\"exports\"]**2\n",
    "warX[\"intercept\"] = 1.0\n",
    "warY = war[\"start\"]\n",
    "\n",
    "\n",
    "\n",
    "m1 = sm.Logit(warY, warX).fit()\n",
    "print(m1.summary())"
   ]
  },
  {
   "cell_type": "code",
   "execution_count": 6,
   "metadata": {
    "collapsed": false
   },
   "outputs": [
    {
     "data": {
      "text/plain": [
       "pandas.core.series.Series"
      ]
     },
     "execution_count": 6,
     "metadata": {},
     "output_type": "execute_result"
    }
   ],
   "source": [
    "type(warY)"
   ]
  },
  {
   "cell_type": "markdown",
   "metadata": {},
   "source": [
    "See table above for coefficients, SEs, and p-values.\n",
    "All but dominance are significant at the 5% level, although dominance is close: p = 0.058."
   ]
  },
  {
   "cell_type": "markdown",
   "metadata": {},
   "source": [
    "### Question 2\n",
    "#### Interpretation: All parts of this question refer to the logistic regression model you just fit."
   ]
  },
  {
   "cell_type": "markdown",
   "metadata": {},
   "source": [
    "#### What is the model's predicted probability for a civil war in India in the period beginning 1975?"
   ]
  },
  {
   "cell_type": "code",
   "execution_count": 3,
   "metadata": {
    "collapsed": false
   },
   "outputs": [
    {
     "data": {
      "text/plain": [
       "0.3504198862846219"
      ]
     },
     "execution_count": 3,
     "metadata": {},
     "output_type": "execute_result"
    }
   ],
   "source": [
    "warBase = war.copy()\n",
    "warBase[\"exports^2\"] = war[\"exports\"]**2\n",
    "warBase[\"intercept\"] = 1.0\n",
    "\n",
    "war_India_1975 = warBase[(war.country == \"India\") & (war.year == 1975)]\n",
    "war_India_1975 = war_India_1975.drop([\"country\",\"year\",\"start\"], axis=1)\n",
    "\n",
    "m1.predict(war_India_1975)[0]"
   ]
  },
  {
   "cell_type": "markdown",
   "metadata": {},
   "source": [
    "#### What probability would it predict for a country just like India in 1975, except that its male secondary school enrollment rate was 30 points higher?"
   ]
  },
  {
   "cell_type": "code",
   "execution_count": 4,
   "metadata": {
    "collapsed": false
   },
   "outputs": [
    {
     "data": {
      "text/plain": [
       "0.17309004735035405"
      ]
     },
     "execution_count": 4,
     "metadata": {},
     "output_type": "execute_result"
    }
   ],
   "source": [
    "war_India_1975_school = war_India_1975.copy()\n",
    "war_India_1975_school[\"schooling\"] = war_India_1975_school[\"schooling\"] + 30\n",
    "\n",
    "m1.predict(war_India_1975_school)[0]"
   ]
  },
  {
   "cell_type": "markdown",
   "metadata": {},
   "source": [
    "#### What probability would it predict for a country just like India in 1975, except that the ratio of commodity exports to GDP \n",
    " was 0.1 higher?"
   ]
  },
  {
   "cell_type": "code",
   "execution_count": 5,
   "metadata": {
    "collapsed": false
   },
   "outputs": [
    {
     "data": {
      "text/plain": [
       "0.69613783776825489"
      ]
     },
     "execution_count": 5,
     "metadata": {},
     "output_type": "execute_result"
    }
   ],
   "source": [
    "war_India_1975_exports = war_India_1975.copy()\n",
    "war_India_1975_exports[\"exports\"] = war_India_1975_exports[\"exports\"] + 0.1\n",
    "war_India_1975_exports[\"exports^2\"] = war_India_1975_exports[\"exports\"]**2\n",
    "\n",
    "m1.predict(war_India_1975_exports)[0]"
   ]
  },
  {
   "cell_type": "markdown",
   "metadata": {},
   "source": [
    "#### What is the model's predicted probability for a civil war in Nigeria in the period beginning 1965?"
   ]
  },
  {
   "cell_type": "code",
   "execution_count": 6,
   "metadata": {
    "collapsed": false
   },
   "outputs": [
    {
     "data": {
      "text/plain": [
       "0.17099171522633955"
      ]
     },
     "execution_count": 6,
     "metadata": {},
     "output_type": "execute_result"
    }
   ],
   "source": [
    "war_Nigeria_1965 = warBase[(war.country == \"Nigeria\") & (war.year == 1965)]\n",
    "war_Nigeria_1965 = war_Nigeria_1965.drop([\"country\",\"year\",\"start\"], axis=1)\n",
    "\n",
    "m1.predict(war_Nigeria_1965)[0]"
   ]
  },
  {
   "cell_type": "markdown",
   "metadata": {},
   "source": [
    "#### What probability would it predict for a country just like Nigeria in 1965, except that its male secondary school enrollment rate was 30 points higher?"
   ]
  },
  {
   "cell_type": "code",
   "execution_count": 10,
   "metadata": {
    "collapsed": false
   },
   "outputs": [
    {
     "data": {
      "text/plain": [
       "0.074103148309710418"
      ]
     },
     "execution_count": 10,
     "metadata": {},
     "output_type": "execute_result"
    }
   ],
   "source": [
    "war_Nigeria_1965_school = war_Nigeria_1965.copy()\n",
    "war_Nigeria_1965_school[\"schooling\"] = war_Nigeria_1965_school[\"schooling\"] + 30\n",
    "\n",
    "m1.predict(war_Nigeria_1965_school)[0]"
   ]
  },
  {
   "cell_type": "markdown",
   "metadata": {},
   "source": [
    "#### What probability would it predict for a country just like Nigeria in 1965, except that the ratio of commodity exports to GDP was 0.1 higher?"
   ]
  },
  {
   "cell_type": "code",
   "execution_count": 11,
   "metadata": {
    "collapsed": false
   },
   "outputs": [
    {
     "data": {
      "text/plain": [
       "0.33100439923140973"
      ]
     },
     "execution_count": 11,
     "metadata": {},
     "output_type": "execute_result"
    }
   ],
   "source": [
    "war_Nigeria_1965_exports = war_Nigeria_1965.copy()\n",
    "war_Nigeria_1965_exports[\"exports\"] = war_Nigeria_1965_exports[\"exports\"] + 0.1\n",
    "war_Nigeria_1965_exports[\"exports^2\"] = war_Nigeria_1965_exports[\"exports\"]**2\n",
    "\n",
    "m1.predict(war_Nigeria_1965_exports)[0]"
   ]
  },
  {
   "cell_type": "markdown",
   "metadata": {},
   "source": [
    "#### Q:In the parts above, you changed the same predictor variables by the same amounts. If you did your calculations properly, the changes in predicted probabilities are not equal. Explain why not. (The reasons may or may not be the same for the two variables.)\n",
    "\n",
    "\n",
    "A:\n",
    "The different changes are due to using logistic regression rather than linear regression: because the function does not\n",
    " have a constant slope, the response to change depends on where in the data the observations are. \n",
    "\n"
   ]
  },
  {
   "cell_type": "markdown",
   "metadata": {},
   "source": [
    "### Question 3\n",
    "#### Build a 2x2 confusion matrix (a.k.a. A classification tableor a contigency table) which counts: the number of outbreaks of civil war correctly predicted by the logistic regression; the number of civil wars not predicted by the model; the number of false predictions of civil wars; and the number of correctly predicted absences of civil wars. (Note that some entries in the table may be zero.)"
   ]
  },
  {
   "cell_type": "code",
   "execution_count": 12,
   "metadata": {
    "collapsed": false
   },
   "outputs": [
    {
     "data": {
      "text/html": [
       "<div>\n",
       "<table border=\"1\" class=\"dataframe\">\n",
       "  <thead>\n",
       "    <tr style=\"text-align: right;\">\n",
       "      <th>actual</th>\n",
       "      <th>No</th>\n",
       "      <th>Yes</th>\n",
       "    </tr>\n",
       "    <tr>\n",
       "      <th>pred</th>\n",
       "      <th></th>\n",
       "      <th></th>\n",
       "    </tr>\n",
       "  </thead>\n",
       "  <tbody>\n",
       "    <tr>\n",
       "      <th>No</th>\n",
       "      <td>637</td>\n",
       "      <td>43</td>\n",
       "    </tr>\n",
       "    <tr>\n",
       "      <th>Yes</th>\n",
       "      <td>5</td>\n",
       "      <td>3</td>\n",
       "    </tr>\n",
       "  </tbody>\n",
       "</table>\n",
       "</div>"
      ],
      "text/plain": [
       "actual   No  Yes\n",
       "pred            \n",
       "No      637   43\n",
       "Yes       5    3"
      ]
     },
     "execution_count": 12,
     "metadata": {},
     "output_type": "execute_result"
    }
   ],
   "source": [
    "my_log_pred = pd.DataFrame()\n",
    "my_log_pred[\"pred\"] = [\"No\" if x < .5 else \"Yes\" for x in m1.predict()]\n",
    "my_log_pred[\"actual\"] = [\"No\" if x == 0 else \"Yes\" for x in war[\"start\"]]\n",
    "conf_log = pd.crosstab(my_log_pred[\"pred\"], my_log_pred[\"actual\"])\n",
    "conf_log"
   ]
  },
  {
   "cell_type": "markdown",
   "metadata": {},
   "source": [
    "#### What fraction of the logistic regression's predictions are incorrect, i.e. what is the misclassification rate? (Note that this is if anything too kind to the model, since it's looking at predictions to the same training data set)"
   ]
  },
  {
   "cell_type": "code",
   "execution_count": 14,
   "metadata": {
    "collapsed": false
   },
   "outputs": [
    {
     "data": {
      "text/plain": [
       "0.069767441860465115"
      ]
     },
     "execution_count": 14,
     "metadata": {},
     "output_type": "execute_result"
    }
   ],
   "source": [
    "(1/(war.shape[0])) * (conf_log.iloc[1,0] + conf_log.iloc[0,1])"
   ]
  },
  {
   "cell_type": "markdown",
   "metadata": {},
   "source": [
    "#### Consider a foolish (?) pundit who always predicts no war. What fraction of the pundit's predictions are correct on the whole data set?"
   ]
  },
  {
   "cell_type": "code",
   "execution_count": 15,
   "metadata": {
    "collapsed": false
   },
   "outputs": [
    {
     "data": {
      "text/plain": [
       "0.9331395348837209"
      ]
     },
     "execution_count": 15,
     "metadata": {},
     "output_type": "execute_result"
    }
   ],
   "source": [
    "conf_log.iloc[:,0].sum()/war.shape[0]"
   ]
  },
  {
   "cell_type": "markdown",
   "metadata": {},
   "source": [
    "### Question 4\n",
    "#### Comparison: Since this is a classification problem with only two classes, we can compare Logistic Regression right along side Discriminant Analysis."
   ]
  },
  {
   "cell_type": "markdown",
   "metadata": {},
   "source": [
    "#### Fit an LDA model using the same predictors that you used for your logistic regression model. What is the training misclassification rate?"
   ]
  },
  {
   "cell_type": "code",
   "execution_count": 19,
   "metadata": {
    "collapsed": false
   },
   "outputs": [
    {
     "name": "stderr",
     "output_type": "stream",
     "text": [
      "C:\\Users\\dyoung\\AppData\\Local\\Continuum\\Anaconda3\\lib\\site-packages\\sklearn\\discriminant_analysis.py:389: UserWarning: Variables are collinear.\n",
      "  warnings.warn(\"Variables are collinear.\")\n"
     ]
    },
    {
     "data": {
      "text/html": [
       "<div>\n",
       "<table border=\"1\" class=\"dataframe\">\n",
       "  <thead>\n",
       "    <tr style=\"text-align: right;\">\n",
       "      <th>actual</th>\n",
       "      <th>No</th>\n",
       "      <th>Yes</th>\n",
       "    </tr>\n",
       "    <tr>\n",
       "      <th>pred</th>\n",
       "      <th></th>\n",
       "      <th></th>\n",
       "    </tr>\n",
       "  </thead>\n",
       "  <tbody>\n",
       "    <tr>\n",
       "      <th>No</th>\n",
       "      <td>636</td>\n",
       "      <td>40</td>\n",
       "    </tr>\n",
       "    <tr>\n",
       "      <th>Yes</th>\n",
       "      <td>6</td>\n",
       "      <td>6</td>\n",
       "    </tr>\n",
       "  </tbody>\n",
       "</table>\n",
       "</div>"
      ],
      "text/plain": [
       "actual   No  Yes\n",
       "pred            \n",
       "No      636   40\n",
       "Yes       6    6"
      ]
     },
     "execution_count": 19,
     "metadata": {},
     "output_type": "execute_result"
    }
   ],
   "source": [
    "lda1 = LDA(solver=\"svd\", store_covariance=True)\n",
    "lda1.fit(warX,warY)\n",
    "\n",
    "my_lda_pred = pd.DataFrame()\n",
    "my_lda_pred[\"pred\"] = [\"No\" if x == 0 else \"Yes\" for x in lda1.predict(warX)]\n",
    "my_lda_pred[\"actual\"] = [\"No\" if x == 0 else \"Yes\" for x in war[\"start\"]]\n",
    "conf_lda = pd.crosstab(my_lda_pred[\"pred\"], my_lda_pred[\"actual\"])\n",
    "conf_lda"
   ]
  },
  {
   "cell_type": "code",
   "execution_count": 18,
   "metadata": {
    "collapsed": false
   },
   "outputs": [
    {
     "data": {
      "text/plain": [
       "0.066860465116279064"
      ]
     },
     "execution_count": 18,
     "metadata": {},
     "output_type": "execute_result"
    }
   ],
   "source": [
    "(1/(war.shape[0])) * (conf_lda.iloc[1,0] + conf_lda.iloc[0,1])"
   ]
  },
  {
   "cell_type": "markdown",
   "metadata": {},
   "source": [
    "#### Fit a QDA model using the very same predictors. What is the training misclassification rate?"
   ]
  },
  {
   "cell_type": "markdown",
   "metadata": {},
   "source": [
    "<font color=\"blue\">**R vs Python Note: ** I have not gotten QDA to work for this dataset in Python.</font>"
   ]
  },
  {
   "cell_type": "code",
   "execution_count": 22,
   "metadata": {
    "collapsed": false
   },
   "outputs": [
    {
     "name": "stderr",
     "output_type": "stream",
     "text": [
      "C:\\Users\\dyoung\\AppData\\Local\\Continuum\\Anaconda3\\lib\\site-packages\\sklearn\\discriminant_analysis.py:694: UserWarning: Variables are collinear\n",
      "  warnings.warn(\"Variables are collinear\")\n"
     ]
    },
    {
     "data": {
      "text/plain": [
       "0      No\n",
       "1      No\n",
       "2      No\n",
       "3      No\n",
       "4      No\n",
       "5      No\n",
       "6      No\n",
       "7      No\n",
       "8      No\n",
       "9      No\n",
       "10     No\n",
       "11     No\n",
       "12     No\n",
       "13     No\n",
       "14     No\n",
       "15     No\n",
       "16     No\n",
       "17     No\n",
       "18     No\n",
       "19     No\n",
       "20     No\n",
       "21     No\n",
       "22     No\n",
       "23     No\n",
       "24     No\n",
       "25     No\n",
       "26     No\n",
       "27     No\n",
       "28     No\n",
       "29     No\n",
       "       ..\n",
       "658    No\n",
       "659    No\n",
       "660    No\n",
       "661    No\n",
       "662    No\n",
       "663    No\n",
       "664    No\n",
       "665    No\n",
       "666    No\n",
       "667    No\n",
       "668    No\n",
       "669    No\n",
       "670    No\n",
       "671    No\n",
       "672    No\n",
       "673    No\n",
       "674    No\n",
       "675    No\n",
       "676    No\n",
       "677    No\n",
       "678    No\n",
       "679    No\n",
       "680    No\n",
       "681    No\n",
       "682    No\n",
       "683    No\n",
       "684    No\n",
       "685    No\n",
       "686    No\n",
       "687    No\n",
       "Name: pred, dtype: object"
      ]
     },
     "execution_count": 22,
     "metadata": {},
     "output_type": "execute_result"
    }
   ],
   "source": [
    "qda1 = QDA(store_covariances=True)\n",
    "qda1.fit(warX,warY)\n",
    "\n",
    "test = qda1.predict_proba(warX)\n",
    "\n",
    "my_qda_pred = pd.DataFrame()\n",
    "my_qda_pred[\"pred\"] = [\"No\" if x < .5 else \"Yes\" for x in qda1.predict(warX)]\n",
    "my_qda_pred[\"actual\"] = [\"No\" if x == 0 else \"Yes\" for x in war[\"start\"]]\n",
    "# conf_qda = pd.crosstab(my_qda_pred[\"pred\"], my_qda_pred[\"actual\"])\n",
    "# conf_qda\n",
    "\n",
    "# (1/(war.shape[0])) * (conf_qda.iloc[1,0] + conf_qda.iloc[0,1])\n",
    "\n",
    "my_qda_pred[\"pred\"]"
   ]
  }
 ],
 "metadata": {
  "anaconda-cloud": {},
  "kernelspec": {
   "display_name": "Python [Root]",
   "language": "python",
   "name": "Python [Root]"
  },
  "language_info": {
   "codemirror_mode": {
    "name": "ipython",
    "version": 3
   },
   "file_extension": ".py",
   "mimetype": "text/x-python",
   "name": "python",
   "nbconvert_exporter": "python",
   "pygments_lexer": "ipython3",
   "version": "3.5.1"
  }
 },
 "nbformat": 4,
 "nbformat_minor": 0
}
