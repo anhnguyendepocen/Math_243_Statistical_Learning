{
 "cells": [
  {
   "cell_type": "markdown",
   "metadata": {},
   "source": [
    "# Lab5 - Bootstrap Resampling\n",
    "## Relationship between earnings and return on investment in stocks"
   ]
  },
  {
   "cell_type": "markdown",
   "metadata": {},
   "source": [
    "Our data set this week looks at the relationship between US stock prices, the earnings of the corporations, and the returns on\n",
    " investment in stocks, with returns counting both changes in stock price and dividends paid to stock holders. A corporation's \n",
    " **earnings** in a given year is its income minus its expenses. The return on an investment over a year is the fractional \n",
    " change in its value, $(v_{t+1} - v_t)/v_t$, and the average rate of return over $k$ years is $[(v_{t+k} - v_t)/v_t]^{1/k}$.  \n",
    "\n",
    "Specifically, our data contains the following variables:\n",
    "\n",
    "- `Date`, with fractions of a year indicating months\n",
    "- `Price` of an index of US stocks (inflation-adjusted)\n",
    "- `Earnings` per share (also inflation-adjusted);\n",
    "- `Earnings_10MA_back`, a ten-year moving average of earnings, looking backwards from the current date;\n",
    "- `Return_cumul`, cumulative return of investing in the stock index,  from the beginning;\n",
    "- `Return_10_fwd`, the average rate of return over the next 10 years from the current date.\n",
    "\n",
    "\"Returns\" will refer to `Return_10_fwd` throughout."
   ]
  },
  {
   "cell_type": "code",
   "execution_count": 30,
   "metadata": {
    "collapsed": true
   },
   "outputs": [],
   "source": [
    "import pandas as pd\n",
    "import statsmodels.formula.api as smf\n",
    "from sklearn.model_selection import cross_val_score\n",
    "from sklearn.linear_model import LinearRegression as lm\n",
    "from sklearn.utils import resample as rs\n",
    "import numpy as np\n",
    "import matplotlib.pyplot as plt\n",
    "%matplotlib inline"
   ]
  },
  {
   "cell_type": "markdown",
   "metadata": {},
   "source": [
    "### 1. Inventing a variable\n",
    "\n",
    "#### a. Add a new column, `MAPE` to the data frame, which is the ratio of `Price` to `Earnings_10MA_back`. Bring up the summary statistics for the new column using the `summary()` command. Why are there exactly 120 NAs? For ease of computing for the rest of the lab, you may want to remove all rows with any missing data.\n",
    "    \n",
    "\n",
    "    \n"
   ]
  },
  {
   "cell_type": "code",
   "execution_count": 4,
   "metadata": {
    "collapsed": false
   },
   "outputs": [
    {
     "data": {
      "text/plain": [
       "count    1484.000000\n",
       "mean       16.040366\n",
       "std         6.497185\n",
       "min         4.785185\n",
       "25%        11.512955\n",
       "50%        15.464092\n",
       "75%        18.946334\n",
       "max        44.195647\n",
       "Name: MAPE, dtype: float64"
      ]
     },
     "execution_count": 4,
     "metadata": {},
     "output_type": "execute_result"
    }
   ],
   "source": [
    "d = pd.read_csv(\"http://andrewpbray.github.io/math-243/assets/data/stock_history.csv\")\n",
    "d[\"MAPE\"] = d[\"Price\"]/d[\"Earnings_10MA_back\"]\n",
    "d = d.dropna()\n",
    "d[\"MAPE\"].describe()\n"
   ]
  },
  {
   "cell_type": "markdown",
   "metadata": {},
   "source": [
    "The first 120 rows (10 years over 12 months) did not have a 10 year moving average earnings because there's not enough \n",
    "trailing earnings data yet."
   ]
  },
  {
   "cell_type": "markdown",
   "metadata": {},
   "source": [
    "#### b. Build a linear model to predict the returns of `MAPE`. What is the coefficient and it's standard error? Is it significant?"
   ]
  },
  {
   "cell_type": "code",
   "execution_count": 7,
   "metadata": {
    "collapsed": false
   },
   "outputs": [
    {
     "data": {
      "text/html": [
       "<table class=\"simpletable\">\n",
       "<caption>OLS Regression Results</caption>\n",
       "<tr>\n",
       "  <th>Dep. Variable:</th>      <td>Return_10_fwd</td>  <th>  R-squared:         </th> <td>   0.323</td> \n",
       "</tr>\n",
       "<tr>\n",
       "  <th>Model:</th>                   <td>OLS</td>       <th>  Adj. R-squared:    </th> <td>   0.322</td> \n",
       "</tr>\n",
       "<tr>\n",
       "  <th>Method:</th>             <td>Least Squares</td>  <th>  F-statistic:       </th> <td>   705.8</td> \n",
       "</tr>\n",
       "<tr>\n",
       "  <th>Date:</th>             <td>Mon, 13 Mar 2017</td> <th>  Prob (F-statistic):</th> <td>1.64e-127</td>\n",
       "</tr>\n",
       "<tr>\n",
       "  <th>Time:</th>                 <td>17:11:37</td>     <th>  Log-Likelihood:    </th> <td>  2557.4</td> \n",
       "</tr>\n",
       "<tr>\n",
       "  <th>No. Observations:</th>      <td>  1484</td>      <th>  AIC:               </th> <td>  -5111.</td> \n",
       "</tr>\n",
       "<tr>\n",
       "  <th>Df Residuals:</th>          <td>  1482</td>      <th>  BIC:               </th> <td>  -5100.</td> \n",
       "</tr>\n",
       "<tr>\n",
       "  <th>Df Model:</th>              <td>     1</td>      <th>                     </th>     <td> </td>    \n",
       "</tr>\n",
       "<tr>\n",
       "  <th>Covariance Type:</th>      <td>nonrobust</td>    <th>                     </th>     <td> </td>    \n",
       "</tr>\n",
       "</table>\n",
       "<table class=\"simpletable\">\n",
       "<tr>\n",
       "      <td></td>         <th>coef</th>     <th>std err</th>      <th>t</th>      <th>P>|t|</th> <th>[95.0% Conf. Int.]</th> \n",
       "</tr>\n",
       "<tr>\n",
       "  <th>Intercept</th> <td>    0.1383</td> <td>    0.003</td> <td>   46.286</td> <td> 0.000</td> <td>    0.132     0.144</td>\n",
       "</tr>\n",
       "<tr>\n",
       "  <th>MAPE</th>      <td>   -0.0046</td> <td>    0.000</td> <td>  -26.567</td> <td> 0.000</td> <td>   -0.005    -0.004</td>\n",
       "</tr>\n",
       "</table>\n",
       "<table class=\"simpletable\">\n",
       "<tr>\n",
       "  <th>Omnibus:</th>       <td>28.723</td> <th>  Durbin-Watson:     </th> <td>   0.013</td>\n",
       "</tr>\n",
       "<tr>\n",
       "  <th>Prob(Omnibus):</th> <td> 0.000</td> <th>  Jarque-Bera (JB):  </th> <td>  25.893</td>\n",
       "</tr>\n",
       "<tr>\n",
       "  <th>Skew:</th>          <td>-0.271</td> <th>  Prob(JB):          </th> <td>2.38e-06</td>\n",
       "</tr>\n",
       "<tr>\n",
       "  <th>Kurtosis:</th>      <td> 2.647</td> <th>  Cond. No.          </th> <td>    46.2</td>\n",
       "</tr>\n",
       "</table>"
      ],
      "text/plain": [
       "<class 'statsmodels.iolib.summary.Summary'>\n",
       "\"\"\"\n",
       "                            OLS Regression Results                            \n",
       "==============================================================================\n",
       "Dep. Variable:          Return_10_fwd   R-squared:                       0.323\n",
       "Model:                            OLS   Adj. R-squared:                  0.322\n",
       "Method:                 Least Squares   F-statistic:                     705.8\n",
       "Date:                Mon, 13 Mar 2017   Prob (F-statistic):          1.64e-127\n",
       "Time:                        17:11:37   Log-Likelihood:                 2557.4\n",
       "No. Observations:                1484   AIC:                            -5111.\n",
       "Df Residuals:                    1482   BIC:                            -5100.\n",
       "Df Model:                           1                                         \n",
       "Covariance Type:            nonrobust                                         \n",
       "==============================================================================\n",
       "                 coef    std err          t      P>|t|      [95.0% Conf. Int.]\n",
       "------------------------------------------------------------------------------\n",
       "Intercept      0.1383      0.003     46.286      0.000         0.132     0.144\n",
       "MAPE          -0.0046      0.000    -26.567      0.000        -0.005    -0.004\n",
       "==============================================================================\n",
       "Omnibus:                       28.723   Durbin-Watson:                   0.013\n",
       "Prob(Omnibus):                  0.000   Jarque-Bera (JB):               25.893\n",
       "Skew:                          -0.271   Prob(JB):                     2.38e-06\n",
       "Kurtosis:                       2.647   Cond. No.                         46.2\n",
       "==============================================================================\n",
       "\n",
       "Warnings:\n",
       "[1] Standard Errors assume that the covariance matrix of the errors is correctly specified.\n",
       "\"\"\""
      ]
     },
     "execution_count": 7,
     "metadata": {},
     "output_type": "execute_result"
    }
   ],
   "source": [
    "m1 = smf.ols(formula=\"Return_10_fwd ~ MAPE\", data=d)\n",
    "m1.fit().summary()\n"
   ]
  },
  {
   "cell_type": "code",
   "execution_count": 6,
   "metadata": {
    "collapsed": false
   },
   "outputs": [
    {
     "data": {
      "text/plain": [
       "-0.0045885355498982289"
      ]
     },
     "execution_count": 6,
     "metadata": {},
     "output_type": "execute_result"
    }
   ],
   "source": [
    "m1.fit().params[1]"
   ]
  },
  {
   "cell_type": "markdown",
   "metadata": {},
   "source": [
    "The coefficient and standard error for MAPE is -0.0046 and <0.001 respectively. It is very statistically significant."
   ]
  },
  {
   "cell_type": "markdown",
   "metadata": {},
   "source": [
    "#### c. What is the MSE of this model under five-fold CV? I recommend you go about this by adding a column to your data frame indicating the randomly assigned *fold* to which every observation belongs. Then use a for-loop to fit and predict across each of the five folds, where you can use the appropriate data by subsetting based on the fold."
   ]
  },
  {
   "cell_type": "code",
   "execution_count": 14,
   "metadata": {
    "collapsed": false
   },
   "outputs": [
    {
     "data": {
      "text/plain": [
       "0.0025127208688604779"
      ]
     },
     "execution_count": 14,
     "metadata": {},
     "output_type": "execute_result"
    }
   ],
   "source": [
    "sk_m1 = lm()\n",
    "mse = np.abs(cross_val_score(sk_m1,d[\"MAPE\"].reshape(1484,1),d[\"Return_10_fwd\"], scoring=\"neg_mean_squared_error\",cv=5))\n",
    "mse.mean()"
   ]
  },
  {
   "cell_type": "markdown",
   "metadata": {},
   "source": [
    "### 2. Inverting a variable\n",
    "\n",
    "#### a. Build a linear model to predict returns using `1/MAPE` (and nothing else). What is the coefficient and its standard error? Is it significant?\n",
    " \n"
   ]
  },
  {
   "cell_type": "code",
   "execution_count": 15,
   "metadata": {
    "collapsed": false
   },
   "outputs": [
    {
     "data": {
      "text/html": [
       "<table class=\"simpletable\">\n",
       "<caption>OLS Regression Results</caption>\n",
       "<tr>\n",
       "  <th>Dep. Variable:</th>      <td>Return_10_fwd</td>  <th>  R-squared:         </th> <td>   0.334</td> \n",
       "</tr>\n",
       "<tr>\n",
       "  <th>Model:</th>                   <td>OLS</td>       <th>  Adj. R-squared:    </th> <td>   0.334</td> \n",
       "</tr>\n",
       "<tr>\n",
       "  <th>Method:</th>             <td>Least Squares</td>  <th>  F-statistic:       </th> <td>   743.9</td> \n",
       "</tr>\n",
       "<tr>\n",
       "  <th>Date:</th>             <td>Mon, 13 Mar 2017</td> <th>  Prob (F-statistic):</th> <td>4.41e-133</td>\n",
       "</tr>\n",
       "<tr>\n",
       "  <th>Time:</th>                 <td>17:20:46</td>     <th>  Log-Likelihood:    </th> <td>  2570.2</td> \n",
       "</tr>\n",
       "<tr>\n",
       "  <th>No. Observations:</th>      <td>  1484</td>      <th>  AIC:               </th> <td>  -5136.</td> \n",
       "</tr>\n",
       "<tr>\n",
       "  <th>Df Residuals:</th>          <td>  1482</td>      <th>  BIC:               </th> <td>  -5126.</td> \n",
       "</tr>\n",
       "<tr>\n",
       "  <th>Df Model:</th>              <td>     1</td>      <th>                     </th>     <td> </td>    \n",
       "</tr>\n",
       "<tr>\n",
       "  <th>Covariance Type:</th>      <td>nonrobust</td>    <th>                     </th>     <td> </td>    \n",
       "</tr>\n",
       "</table>\n",
       "<table class=\"simpletable\">\n",
       "<tr>\n",
       "      <td></td>         <th>coef</th>     <th>std err</th>      <th>t</th>      <th>P>|t|</th> <th>[95.0% Conf. Int.]</th> \n",
       "</tr>\n",
       "<tr>\n",
       "  <th>Intercept</th> <td>   -0.0077</td> <td>    0.003</td> <td>   -2.661</td> <td> 0.008</td> <td>   -0.013    -0.002</td>\n",
       "</tr>\n",
       "<tr>\n",
       "  <th>Inv_MAPE</th>  <td>    0.9959</td> <td>    0.037</td> <td>   27.275</td> <td> 0.000</td> <td>    0.924     1.068</td>\n",
       "</tr>\n",
       "</table>\n",
       "<table class=\"simpletable\">\n",
       "<tr>\n",
       "  <th>Omnibus:</th>       <td>17.825</td> <th>  Durbin-Watson:     </th> <td>   0.013</td>\n",
       "</tr>\n",
       "<tr>\n",
       "  <th>Prob(Omnibus):</th> <td> 0.000</td> <th>  Jarque-Bera (JB):  </th> <td>  11.370</td>\n",
       "</tr>\n",
       "<tr>\n",
       "  <th>Skew:</th>          <td>-0.033</td> <th>  Prob(JB):          </th> <td> 0.00340</td>\n",
       "</tr>\n",
       "<tr>\n",
       "  <th>Kurtosis:</th>      <td> 2.576</td> <th>  Cond. No.          </th> <td>    33.0</td>\n",
       "</tr>\n",
       "</table>"
      ],
      "text/plain": [
       "<class 'statsmodels.iolib.summary.Summary'>\n",
       "\"\"\"\n",
       "                            OLS Regression Results                            \n",
       "==============================================================================\n",
       "Dep. Variable:          Return_10_fwd   R-squared:                       0.334\n",
       "Model:                            OLS   Adj. R-squared:                  0.334\n",
       "Method:                 Least Squares   F-statistic:                     743.9\n",
       "Date:                Mon, 13 Mar 2017   Prob (F-statistic):          4.41e-133\n",
       "Time:                        17:20:46   Log-Likelihood:                 2570.2\n",
       "No. Observations:                1484   AIC:                            -5136.\n",
       "Df Residuals:                    1482   BIC:                            -5126.\n",
       "Df Model:                           1                                         \n",
       "Covariance Type:            nonrobust                                         \n",
       "==============================================================================\n",
       "                 coef    std err          t      P>|t|      [95.0% Conf. Int.]\n",
       "------------------------------------------------------------------------------\n",
       "Intercept     -0.0077      0.003     -2.661      0.008        -0.013    -0.002\n",
       "Inv_MAPE       0.9959      0.037     27.275      0.000         0.924     1.068\n",
       "==============================================================================\n",
       "Omnibus:                       17.825   Durbin-Watson:                   0.013\n",
       "Prob(Omnibus):                  0.000   Jarque-Bera (JB):               11.370\n",
       "Skew:                          -0.033   Prob(JB):                      0.00340\n",
       "Kurtosis:                       2.576   Cond. No.                         33.0\n",
       "==============================================================================\n",
       "\n",
       "Warnings:\n",
       "[1] Standard Errors assume that the covariance matrix of the errors is correctly specified.\n",
       "\"\"\""
      ]
     },
     "execution_count": 15,
     "metadata": {},
     "output_type": "execute_result"
    }
   ],
   "source": [
    "d[\"Inv_MAPE\"] = 1/d[\"MAPE\"]\n",
    "m2 = smf.ols(formula=\"Return_10_fwd ~ Inv_MAPE\",data=d)\n",
    "m2.fit().summary()\n"
   ]
  },
  {
   "cell_type": "markdown",
   "metadata": {},
   "source": [
    "The coefficient and standard error for inverse MAPE is 0.9959 and 0.037 respectively. It is very statistically significant."
   ]
  },
  {
   "cell_type": "markdown",
   "metadata": {},
   "source": [
    "b. What is the CV MSE of this model? How does it compare to the previous one?"
   ]
  },
  {
   "cell_type": "code",
   "execution_count": 16,
   "metadata": {
    "collapsed": false
   },
   "outputs": [
    {
     "data": {
      "text/plain": [
       "0.0022629067379947411"
      ]
     },
     "execution_count": 16,
     "metadata": {},
     "output_type": "execute_result"
    }
   ],
   "source": [
    "mse2 = np.abs(cross_val_score(sk_m1,d[\"Inv_MAPE\"].reshape(1484,1),d[\"Return_10_fwd\"], scoring=\"neg_mean_squared_error\",cv=5))\n",
    "mse2.mean()"
   ]
  },
  {
   "cell_type": "markdown",
   "metadata": {},
   "source": [
    "The two average MSEs from cross-validations are virtually identical (0.0025 vs 0.0023)"
   ]
  },
  {
   "cell_type": "markdown",
   "metadata": {},
   "source": [
    "### 3. A simple model\n",
    "\n",
    "A simple-minded model says that the expected returns over the next ten years should be exactly equal to `1/MAPE`.\n",
    "\n"
   ]
  },
  {
   "cell_type": "code",
   "execution_count": 18,
   "metadata": {
    "collapsed": false
   },
   "outputs": [
    {
     "data": {
      "text/plain": [
       "0.0018963456570278872"
      ]
     },
     "execution_count": 18,
     "metadata": {},
     "output_type": "execute_result"
    }
   ],
   "source": [
    "errors = (d[\"Return_10_fwd\"] - d[\"Inv_MAPE\"])**2\n",
    "errors.mean()"
   ]
  },
  {
   "cell_type": "markdown",
   "metadata": {},
   "source": [
    "### 4. Is simple sufficient?\n",
    "\n",
    "The model that we fit in no. 2 is very similar to the simple-minded model. Let's compare the similarity in these models. \n",
    "We could go about this in two ways. We could *simulate* from the simple-minded model many times and fit a model of the same\n",
    " form as no. 2 to each one to see if our observed slope in no. 2 is probable under the simple-minded model. We could also \n",
    " *bootstrap* the data set many times, fitting model 2 each time, then see where the simple-minded model lays in that \n",
    " distribution. Since we already have practiced with simulation, let's do the bootstrap method.\n",
    "\n",
    "#### a. Form the bootstrap distribution for the slope of `1/MAPE` (slides from last class may be helpful). Plot this distribution with the paramter of interest (the slope corresponding to the simple-minded model) indicated by a vertical line.\n",
    "\n"
   ]
  },
  {
   "cell_type": "code",
   "execution_count": 24,
   "metadata": {
    "collapsed": false
   },
   "outputs": [
    {
     "data": {
      "text/plain": [
       "0.99689932632009659"
      ]
     },
     "execution_count": 24,
     "metadata": {},
     "output_type": "execute_result"
    }
   ],
   "source": [
    "def bootstrap(data,model,x,y,n_resamples):\n",
    "    betas = np.zeros((5000,1))   \n",
    "    \n",
    "    for i in range(0,n_resamples):\n",
    "        bs_d = rs(data)\n",
    "        \n",
    "        betas[i] = model.fit(bs_d[x].reshape(len(d),1),bs_d[y]).coef_[0]\n",
    "    \n",
    "    return betas\n",
    "    \n",
    "bs_betas = bootstrap(d,sk_m1,\"Inv_MAPE\",\"Return_10_fwd\",5000)\n",
    "\n",
    "\n"
   ]
  },
  {
   "cell_type": "code",
   "execution_count": 27,
   "metadata": {
    "collapsed": false
   },
   "outputs": [
    {
     "name": "stdout",
     "output_type": "stream",
     "text": [
      "0.99689932632\n",
      "0.0298559721226\n"
     ]
    }
   ],
   "source": [
    "print(bs_betas.mean())\n",
    "print(bs_betas.std())"
   ]
  },
  {
   "cell_type": "code",
   "execution_count": 31,
   "metadata": {
    "collapsed": false,
    "scrolled": false
   },
   "outputs": [
    {
     "data": {
      "text/plain": [
       "<matplotlib.lines.Line2D at 0xdc52668>"
      ]
     },
     "execution_count": 31,
     "metadata": {},
     "output_type": "execute_result"
    },
    {
     "data": {
      "image/png": "[encoded data removed]",
      "text/plain": [
       "<matplotlib.figure.Figure at 0xdc04630>"
      ]
     },
     "metadata": {},
     "output_type": "display_data"
    }
   ],
   "source": [
    "figure, ax = plt.subplots(figsize=(10,10))\n",
    "ax.hist(bs_betas, bins=30)\n",
    "ax.axvline(1,color=\"r\",linestyle=\"dashed\",linewidth=2)\n"
   ]
  },
  {
   "cell_type": "markdown",
   "metadata": {},
   "source": [
    " #### b. What is the approximate 95% bootstrap confidence interval for the slope? How does this interval compare to the one returned by running `confint()` on your model object from question 2? Please explain any difference you've found."
   ]
  },
  {
   "cell_type": "code",
   "execution_count": 33,
   "metadata": {
    "collapsed": false
   },
   "outputs": [
    {
     "name": "stdout",
     "output_type": "stream",
     "text": [
      "0.939673106119\n",
      "1.0556774903\n"
     ]
    },
    {
     "data": {
      "text/html": [
       "<div>\n",
       "<table border=\"1\" class=\"dataframe\">\n",
       "  <thead>\n",
       "    <tr style=\"text-align: right;\">\n",
       "      <th></th>\n",
       "      <th>0</th>\n",
       "      <th>1</th>\n",
       "    </tr>\n",
       "  </thead>\n",
       "  <tbody>\n",
       "    <tr>\n",
       "      <th>Intercept</th>\n",
       "      <td>-0.013304</td>\n",
       "      <td>-0.002013</td>\n",
       "    </tr>\n",
       "    <tr>\n",
       "      <th>Inv_MAPE</th>\n",
       "      <td>0.924281</td>\n",
       "      <td>1.067526</td>\n",
       "    </tr>\n",
       "  </tbody>\n",
       "</table>\n",
       "</div>"
      ],
      "text/plain": [
       "                  0         1\n",
       "Intercept -0.013304 -0.002013\n",
       "Inv_MAPE   0.924281  1.067526"
      ]
     },
     "execution_count": 33,
     "metadata": {},
     "output_type": "execute_result"
    }
   ],
   "source": [
    "print(np.percentile(bs_betas,2.5))\n",
    "print(np.percentile(bs_betas,97.5))\n",
    "m2.fit().conf_int()"
   ]
  },
  {
   "cell_type": "markdown",
   "metadata": {},
   "source": [
    "Bootstrapped confidence interval for betas is [0.937,1.058] compared to the confidence interval from question 2 of\n",
    " [.924,1.068].The parametric confidence interval for the betas is slightly more uncertain (wide) than the bootstrap\n",
    " confidence interval. This could just be due to sampling variability since the difference is small. It could also be due \n",
    " to the fact that one or more of the OLS assumptions have been violated (such as consistent variance)."
   ]
  },
  {
   "cell_type": "markdown",
   "metadata": {},
   "source": [
    "### 5. One big happy plot\n",
    "\n",
    "#### For this problem, you need to only include one plot and one paragraph of writing. Also, in this problem, take \"line\" to mean \"straight or curved line\" as appropriate, and be sure to plot actual lines and not disconnected points.\n",
    "\n",
    "#### a. Make a scatterplot of the returns against `MAPE`.\n",
    "#### b. Add two lines showing the predictions from the models you fit in problems 1 and 2.\n",
    "#### c. Add a line showing the predictions from the simple-minded model from problem 3.\n"
   ]
  },
  {
   "cell_type": "code",
   "execution_count": 34,
   "metadata": {
    "collapsed": false,
    "scrolled": false
   },
   "outputs": [
    {
     "data": {
      "text/plain": [
       "<matplotlib.text.Text at 0xde527b8>"
      ]
     },
     "execution_count": 34,
     "metadata": {},
     "output_type": "execute_result"
    },
    {
     "data": {
      "image/png": "[encoded data removed]",
      "text/plain": [
       "<matplotlib.figure.Figure at 0xdcefe80>"
      ]
     },
     "metadata": {},
     "output_type": "display_data"
    }
   ],
   "source": [
    "r1 = m1.fit().params[0] + m1.fit().params[1] * d[\"MAPE\"]\n",
    "r2 = m2.fit().params[0] + m2.fit().params[1] * d[\"Inv_MAPE\"]\n",
    "\n",
    "figure, ax = plt.subplots(figsize=(10,10))\n",
    "ax.scatter(d[\"MAPE\"],d[\"Return_10_fwd\"], color=\"pink\", label=\"\")\n",
    "ax.plot(d[\"MAPE\"],r1,color=\"red\", label=\"MAPE\")\n",
    "ax.plot(d[\"MAPE\"],r2,color=\"blue\", label=\"Inverse MAPE\")\n",
    "ax.plot(d[\"MAPE\"],d[\"Inv_MAPE\"],color=\"green\", label=\"Simple\")\n",
    "ax.legend()\n",
    "ax.set_xlabel(\"MAPE\")\n",
    "ax.set_ylabel(\"Return\")\n",
    "ax.set_title(\"Correlation Between MAPE and Return\")"
   ]
  },
  {
   "cell_type": "markdown",
   "metadata": {},
   "source": [
    "### The big picture\n",
    "\n",
    "#### a. **Cross-validation for model selection**: using CV MSE, which model would you select to make predictions of returns? Looking at the plot in question 5, does this seem like a good model? What are it's strengths and weaknesses for prediction?\n",
    "\n",
    "Based on the CV MSE, I would use the second model to predict returns given it has the lowest MSE. It appears to be a \n",
    "decent fit according to the graph. However, the first model appears to do better for higher values of MAPE since that \n",
    "section appears to have a more linear relationship.\n",
    "\n",
    "#### b. **Bootstrapping for uncertainty estimation**: based on your bootstrapping procedure for the slope of the linear model using `1/MAPE` as a predictor, is the simple-minded model a plausible model given our data?\n",
    "\n",
    "Yes, the simple minded model uses a beta that is contained in the bootstrapped confidence interval.\n"
   ]
  }
 ],
 "metadata": {
  "anaconda-cloud": {},
  "kernelspec": {
   "display_name": "Python [Root]",
   "language": "python",
   "name": "Python [Root]"
  },
  "language_info": {
   "codemirror_mode": {
    "name": "ipython",
    "version": 3
   },
   "file_extension": ".py",
   "mimetype": "text/x-python",
   "name": "python",
   "nbconvert_exporter": "python",
   "pygments_lexer": "ipython3",
   "version": "3.5.2"
  }
 },
 "nbformat": 4,
 "nbformat_minor": 0
}
